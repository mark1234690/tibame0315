{
  "nbformat": 4,
  "nbformat_minor": 0,
  "metadata": {
    "colab": {
      "provenance": [],
      "authorship_tag": "ABX9TyPJc9eySA48lNQkHObh+jVX",
      "include_colab_link": true
    },
    "kernelspec": {
      "name": "python3",
      "display_name": "Python 3"
    },
    "language_info": {
      "name": "python"
    }
  },
  "cells": [
    {
      "cell_type": "markdown",
      "metadata": {
        "id": "view-in-github",
        "colab_type": "text"
      },
      "source": [
        "<a href=\"https://colab.research.google.com/github/mark1234690/tibame0315/blob/main/team4vtuber.ipynb\" target=\"_parent\"><img src=\"https://colab.research.google.com/assets/colab-badge.svg\" alt=\"Open In Colab\"/></a>"
      ]
    },
    {
      "cell_type": "code",
      "execution_count": 22,
      "metadata": {
        "id": "_jt4HXNAfPiS"
      },
      "outputs": [],
      "source": [
        "import cv2\n",
        "import numpy as np\n",
        "import IPython.display as dp\n",
        "from google.colab.patches import cv2_imshow\n",
        "import glob\n",
        "import pandas as pd\n",
        "\n",
        "\n",
        "\n",
        "# df=pd.DataFrame(columns=['path','target']) \n",
        "# for p in glob.glob('train/Gura.*.jpg'):\n",
        "#   s =pd.Series([p,0],index=['path','target'])\n",
        "#   df.append(s,ignore_index=True)\n",
        "# for p in glob.glob('train/Ina.*.jpg'):\n",
        "#   s =pd.Series([p,1],index=['path','target'])\n",
        "#   df.append(s,ignore_index=True)\n",
        "# for p in glob.glob('train/Kiara.*.jpg'):\n",
        "#   s =pd.Series([p,2],index=['path','target'])\n",
        "#   df.append(s,ignore_index=True)\n",
        "# for p in glob.glob('train/Kronii.*.jpg'):\n",
        "#   s =pd.Series([p,3],index=['path','target'])\n",
        "#   df.append(s,ignore_index=True)\n",
        "# for p in glob.glob('train/Mori.*.jpg'):\n",
        "#   s =pd.Series([p,4],index=['path','target'])\n",
        "#   df.append(s,ignore_index=True)\n",
        "# for p in glob.glob('train/Watson.*.jpg'):\n",
        "#   s =pd.Series([p,5],index=['path','target'])\n",
        "#   df.append(s,ignore_index=True)\n",
        "\n",
        "# df\n",
        "\n",
        "#number of class\n",
        "nc=6\n",
        "# class names\n",
        "names=['Gura','Ina','Kiara','Kronii','Mori','Watson']\n",
        "# image_g=cv2.imread('Gura',-1) \n",
        "# for i in image_g():\n",
        "#   print(i)\n",
        "\n"
      ]
    },
    {
      "cell_type": "code",
      "source": [
        "from google.colab import drive\n",
        "drive.mount(\"/content/gdrive\")"
      ],
      "metadata": {
        "colab": {
          "base_uri": "https://localhost:8080/"
        },
        "id": "cY4lyyjD8pDX",
        "outputId": "25acbf43-954b-4a77-b9ad-982ad86e7bbc"
      },
      "execution_count": 23,
      "outputs": [
        {
          "output_type": "stream",
          "name": "stdout",
          "text": [
            "Drive already mounted at /content/gdrive; to attempt to forcibly remount, call drive.mount(\"/content/gdrive\", force_remount=True).\n"
          ]
        }
      ]
    },
    {
      "cell_type": "code",
      "source": [
        "%cd /content/gdrive/MyDrive"
      ],
      "metadata": {
        "colab": {
          "base_uri": "https://localhost:8080/"
        },
        "id": "3UEbFuP4raIq",
        "outputId": "fe8157b5-3d70-45a7-acb1-07b257214cd8"
      },
      "execution_count": null,
      "outputs": [
        {
          "output_type": "stream",
          "name": "stdout",
          "text": [
            "/content/gdrive/MyDrive\n"
          ]
        }
      ]
    },
    {
      "cell_type": "code",
      "source": [
        "import os\n",
        "\n",
        "if not os.path.isdir(\"TheCodingBug\"):\n",
        "  os.makedirs(\"TheCodingBug\")"
      ],
      "metadata": {
        "id": "wokxknrIseby"
      },
      "execution_count": null,
      "outputs": []
    },
    {
      "cell_type": "code",
      "source": [
        "%cd TheCodingBug"
      ],
      "metadata": {
        "colab": {
          "base_uri": "https://localhost:8080/"
        },
        "id": "fA8AKfHZtdGn",
        "outputId": "72c2ea3a-29f4-491c-f30f-17f1aed74880"
      },
      "execution_count": null,
      "outputs": [
        {
          "output_type": "stream",
          "name": "stdout",
          "text": [
            "/content/gdrive/MyDrive/TheCodingBug\n"
          ]
        }
      ]
    },
    {
      "cell_type": "code",
      "source": [
        "!git clone https://github.com/WongKinYiu/yolov7.git"
      ],
      "metadata": {
        "colab": {
          "base_uri": "https://localhost:8080/"
        },
        "id": "uzahIF-5tpZd",
        "outputId": "5657a815-affd-469a-9100-169303a2b492"
      },
      "execution_count": null,
      "outputs": [
        {
          "output_type": "stream",
          "name": "stdout",
          "text": [
            "Cloning into 'yolov7'...\n",
            "remote: Enumerating objects: 1139, done.\u001b[K\n",
            "remote: Total 1139 (delta 0), reused 0 (delta 0), pack-reused 1139\u001b[K\n",
            "Receiving objects: 100% (1139/1139), 70.41 MiB | 12.52 MiB/s, done.\n",
            "Resolving deltas: 100% (488/488), done.\n",
            "Updating files: 100% (104/104), done.\n"
          ]
        }
      ]
    },
    {
      "cell_type": "code",
      "source": [],
      "metadata": {
        "id": "lky4OV9hyqNg"
      },
      "execution_count": null,
      "outputs": []
    }
  ]
}