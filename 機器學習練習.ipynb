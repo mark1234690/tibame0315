{
  "nbformat": 4,
  "nbformat_minor": 0,
  "metadata": {
    "colab": {
      "provenance": [],
      "authorship_tag": "ABX9TyNDY/eizHedmfosh5ed5Zjs",
      "include_colab_link": true
    },
    "kernelspec": {
      "name": "python3",
      "display_name": "Python 3"
    },
    "language_info": {
      "name": "python"
    }
  },
  "cells": [
    {
      "cell_type": "markdown",
      "metadata": {
        "id": "view-in-github",
        "colab_type": "text"
      },
      "source": [
        "<a href=\"https://colab.research.google.com/github/mark1234690/tibame0315/blob/main/%E6%A9%9F%E5%99%A8%E5%AD%B8%E7%BF%92%E7%B7%B4%E7%BF%92.ipynb\" target=\"_parent\"><img src=\"https://colab.research.google.com/assets/colab-badge.svg\" alt=\"Open In Colab\"/></a>"
      ]
    },
    {
      "cell_type": "markdown",
      "source": [
        "# $ Area=\\frac {1}{2}\\pi{R^2} $"
      ],
      "metadata": {
        "id": "T2B0OZyUWwH7"
      }
    },
    {
      "cell_type": "markdown",
      "source": [],
      "metadata": {
        "id": "4flnGhFLcVTU"
      }
    },
    {
      "cell_type": "markdown",
      "source": [
        "# $ A= \\frac{1}{2+x} \\pi{R^2} $"
      ],
      "metadata": {
        "id": "7Px1lfZecX5Y"
      }
    }
  ]
}