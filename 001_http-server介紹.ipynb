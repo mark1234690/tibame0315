{
  "nbformat": 4,
  "nbformat_minor": 0,
  "metadata": {
    "colab": {
      "name": "001_http-server介紹.ipynb",
      "provenance": []
    },
    "kernelspec": {
      "name": "python3",
      "display_name": "Python 3"
    }
  },
  "cells": [
    {
      "cell_type": "markdown",
      "metadata": {
        "id": "UMSn0hQEqmMW"
      },
      "source": [
        "人類世界是一個龐大的訊息系統，每個人都是訊息的傳入與傳出點\n",
        "\n",
        "有些人眉目傳情\n",
        "\n",
        "有些人悄然攜手\n",
        "\n",
        "總而言之，有很多傳遞方式"
      ]
    },
    {
      "cell_type": "code",
      "metadata": {
        "id": "JSnLGIcEqZ04"
      },
      "source": [],
      "execution_count": null,
      "outputs": []
    },
    {
      "cell_type": "markdown",
      "metadata": {
        "id": "FSsnOYzxrQAG"
      },
      "source": [
        "資訊世界也差不多，每個電腦都可以是訊息的傳入與傳出點\n",
        "\n",
        "有的時候，我們想收發email，會用smtp\n",
        "\n",
        "有的時候，想跟別人共享檔案，會用ftp\n",
        "\n",
        "而最常見的一種方式，是http，常見的網站協定"
      ]
    },
    {
      "cell_type": "code",
      "metadata": {
        "id": "xuB6ROBQq5Rr"
      },
      "source": [],
      "execution_count": null,
      "outputs": []
    },
    {
      "cell_type": "markdown",
      "metadata": {
        "id": "GpnIVLxMrvOl"
      },
      "source": [
        "每一種程式語言都能夠用套件，去表達http協定\n",
        "\n",
        "python語言最常見的一種套件，叫做flask\n",
        "\n",
        "現在我們就來體驗一下吧"
      ]
    },
    {
      "cell_type": "code",
      "metadata": {
        "id": "QyiX25M9r96i"
      },
      "source": [],
      "execution_count": null,
      "outputs": []
    },
    {
      "cell_type": "markdown",
      "metadata": {
        "id": "9j3rjoLAr-CH"
      },
      "source": [
        "體驗流程如下，但凡寫程式的流程似乎就這樣了\n",
        "\n",
        "安裝套件\n",
        "\n",
        "引用套件\n",
        "\n",
        "建置主程序\n",
        "\n",
        "為主程序製作交互API接口\n",
        "\n",
        "啟動主程序"
      ]
    },
    {
      "cell_type": "code",
      "metadata": {
        "id": "Zlxxf_XHsrQW",
        "outputId": "2eb755c8-1094-4eca-bcdc-bdb80a3156a1",
        "colab": {
          "base_uri": "https://localhost:8080/"
        }
      },
      "source": [
        "'''\n",
        "安裝套件\n",
        "'''\n",
        "!pip install line-bot-sdk flask flask-ngrok\n",
        "!pip install pyngrok\n",
        "!ngrok authtoken 2Miq00ekfRv1Z8sNJ172Zor8h6U_4jXcgHV9PToYDg75x3XXp"
      ],
      "execution_count": 2,
      "outputs": [
        {
          "output_type": "stream",
          "name": "stdout",
          "text": [
            "Looking in indexes: https://pypi.org/simple, https://us-python.pkg.dev/colab-wheels/public/simple/\n",
            "Requirement already satisfied: line-bot-sdk in /usr/local/lib/python3.10/dist-packages (2.4.2)\n",
            "Requirement already satisfied: flask in /usr/local/lib/python3.10/dist-packages (2.2.4)\n",
            "Requirement already satisfied: flask-ngrok in /usr/local/lib/python3.10/dist-packages (0.0.25)\n",
            "Requirement already satisfied: requests==2.28.2 in /usr/local/lib/python3.10/dist-packages (from line-bot-sdk) (2.28.2)\n",
            "Requirement already satisfied: aiohttp==3.8.4 in /usr/local/lib/python3.10/dist-packages (from line-bot-sdk) (3.8.4)\n",
            "Requirement already satisfied: future in /usr/local/lib/python3.10/dist-packages (from line-bot-sdk) (0.18.3)\n",
            "Requirement already satisfied: attrs>=17.3.0 in /usr/local/lib/python3.10/dist-packages (from aiohttp==3.8.4->line-bot-sdk) (23.1.0)\n",
            "Requirement already satisfied: charset-normalizer<4.0,>=2.0 in /usr/local/lib/python3.10/dist-packages (from aiohttp==3.8.4->line-bot-sdk) (2.0.12)\n",
            "Requirement already satisfied: multidict<7.0,>=4.5 in /usr/local/lib/python3.10/dist-packages (from aiohttp==3.8.4->line-bot-sdk) (6.0.4)\n",
            "Requirement already satisfied: async-timeout<5.0,>=4.0.0a3 in /usr/local/lib/python3.10/dist-packages (from aiohttp==3.8.4->line-bot-sdk) (4.0.2)\n",
            "Requirement already satisfied: yarl<2.0,>=1.0 in /usr/local/lib/python3.10/dist-packages (from aiohttp==3.8.4->line-bot-sdk) (1.9.2)\n",
            "Requirement already satisfied: frozenlist>=1.1.1 in /usr/local/lib/python3.10/dist-packages (from aiohttp==3.8.4->line-bot-sdk) (1.3.3)\n",
            "Requirement already satisfied: aiosignal>=1.1.2 in /usr/local/lib/python3.10/dist-packages (from aiohttp==3.8.4->line-bot-sdk) (1.3.1)\n",
            "Requirement already satisfied: idna<4,>=2.5 in /usr/local/lib/python3.10/dist-packages (from requests==2.28.2->line-bot-sdk) (3.4)\n",
            "Requirement already satisfied: urllib3<1.27,>=1.21.1 in /usr/local/lib/python3.10/dist-packages (from requests==2.28.2->line-bot-sdk) (1.26.15)\n",
            "Requirement already satisfied: certifi>=2017.4.17 in /usr/local/lib/python3.10/dist-packages (from requests==2.28.2->line-bot-sdk) (2022.12.7)\n",
            "Requirement already satisfied: Werkzeug>=2.2.2 in /usr/local/lib/python3.10/dist-packages (from flask) (2.3.0)\n",
            "Requirement already satisfied: Jinja2>=3.0 in /usr/local/lib/python3.10/dist-packages (from flask) (3.1.2)\n",
            "Requirement already satisfied: itsdangerous>=2.0 in /usr/local/lib/python3.10/dist-packages (from flask) (2.1.2)\n",
            "Requirement already satisfied: click>=8.0 in /usr/local/lib/python3.10/dist-packages (from flask) (8.1.3)\n",
            "Requirement already satisfied: MarkupSafe>=2.0 in /usr/local/lib/python3.10/dist-packages (from Jinja2>=3.0->flask) (2.1.2)\n",
            "Looking in indexes: https://pypi.org/simple, https://us-python.pkg.dev/colab-wheels/public/simple/\n",
            "Requirement already satisfied: pyngrok in /usr/local/lib/python3.10/dist-packages (6.0.0)\n",
            "Requirement already satisfied: PyYAML in /usr/local/lib/python3.10/dist-packages (from pyngrok) (6.0)\n",
            "Authtoken saved to configuration file: /root/.ngrok2/ngrok.yml\n"
          ]
        }
      ]
    },
    {
      "cell_type": "code",
      "metadata": {
        "id": "QpiUk0oqs2xA"
      },
      "source": [
        "'''\n",
        "引用套件\n",
        "'''\n",
        "\n",
        "# 引用flask Web Server套件\n",
        "from flask import Flask, request, abort, jsonify\n",
        "\n",
        "# 載入json處理套件\n",
        "import json\n",
        "\n",
        "# 外部連結自動生成套件\n",
        "from flask_ngrok import run_with_ngrok\n"
      ],
      "execution_count": 3,
      "outputs": []
    },
    {
      "cell_type": "code",
      "metadata": {
        "id": "qIz_GY8JtGtR"
      },
      "source": [
        "'''\n",
        "建置主程序\n",
        "'''\n",
        "\n",
        "# 設定Server啟用細節\n",
        "app = Flask(__name__,static_url_path = \"/material\" , static_folder = \"./material/\")\n",
        "run_with_ngrok(app)"
      ],
      "execution_count": 4,
      "outputs": []
    },
    {
      "cell_type": "code",
      "metadata": {
        "id": "PyxwcE731IRD"
      },
      "source": [
        "'''\n",
        "\n",
        "為主程序創造多個API接口\n",
        "\n",
        "想像思路\n",
        "當外面的封包進來的時候，轉流到這個方法\n",
        "\n",
        "'''\n",
        "# 啟動主程序的API接口，最簡單版本\n",
        "@app.route(\"/\", methods=['GET'])\n",
        "def callback():\n",
        "     \n",
        "    return 'Hello World'"
      ],
      "execution_count": 5,
      "outputs": []
    },
    {
      "cell_type": "code",
      "metadata": {
        "id": "UlZwRkCS1pmY"
      },
      "source": [
        "# 第二隻接口，\n",
        "\n",
        "# 啟動主程序的API接口，名為calculate，計算機功能，剖析v1參數與v2參數\n",
        "@app.route(\"/calculate\", methods=['GET'])\n",
        "def calculate():\n",
        "    first_parameter = int(request.args.get('v1'))\n",
        "    second_parameter = int(request.args.get('v2'))\n",
        "    return str(first_parameter+second_parameter)"
      ],
      "execution_count": 6,
      "outputs": []
    },
    {
      "cell_type": "code",
      "metadata": {
        "id": "htiCzxi82fN3",
        "outputId": "a28b8ab2-5fd3-4945-96ef-dd00cede551e",
        "colab": {
          "base_uri": "https://localhost:8080/"
        }
      },
      "source": [
        "# 啟動主程序\n",
        "app.run()"
      ],
      "execution_count": null,
      "outputs": [
        {
          "output_type": "stream",
          "name": "stdout",
          "text": [
            " * Serving Flask app '__main__'\n",
            " * Debug mode: off\n"
          ]
        },
        {
          "output_type": "stream",
          "name": "stderr",
          "text": [
            "INFO:werkzeug:\u001b[31m\u001b[1mWARNING: This is a development server. Do not use it in a production deployment. Use a production WSGI server instead.\u001b[0m\n",
            " * Running on http://127.0.0.1:5000\n",
            "INFO:werkzeug:\u001b[33mPress CTRL+C to quit\u001b[0m\n"
          ]
        },
        {
          "output_type": "stream",
          "name": "stdout",
          "text": [
            " * Running on http://6ce7-34-148-6-221.ngrok-free.app\n",
            " * Traffic stats available on http://127.0.0.1:4040\n"
          ]
        },
        {
          "output_type": "stream",
          "name": "stderr",
          "text": [
            "INFO:werkzeug:127.0.0.1 - - [25/May/2023 09:54:39] \"GET / HTTP/1.1\" 200 -\n",
            "INFO:werkzeug:127.0.0.1 - - [25/May/2023 09:54:39] \"\u001b[33mGET /favicon.ico HTTP/1.1\u001b[0m\" 404 -\n",
            "INFO:werkzeug:127.0.0.1 - - [25/May/2023 09:58:31] \"GET /calculate?v1=2&v2=5 HTTP/1.1\" 200 -\n"
          ]
        }
      ]
    },
    {
      "cell_type": "code",
      "metadata": {
        "id": "A2icnYNS6Oqb"
      },
      "source": [],
      "execution_count": null,
      "outputs": []
    }
  ]
}