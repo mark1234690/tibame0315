{
  "nbformat": 4,
  "nbformat_minor": 0,
  "metadata": {
    "colab": {
      "provenance": [],
      "authorship_tag": "ABX9TyOkP5JYRGdep6UYS0U5vA5q",
      "include_colab_link": true
    },
    "kernelspec": {
      "name": "python3",
      "display_name": "Python 3"
    },
    "language_info": {
      "name": "python"
    }
  },
  "cells": [
    {
      "cell_type": "markdown",
      "metadata": {
        "id": "view-in-github",
        "colab_type": "text"
      },
      "source": [
        "<a href=\"https://colab.research.google.com/github/mark1234690/tibame0315/blob/main/classification.ipynb\" target=\"_parent\"><img src=\"https://colab.research.google.com/assets/colab-badge.svg\" alt=\"Open In Colab\"/></a>"
      ]
    },
    {
      "cell_type": "markdown",
      "source": [
        "scikit-learn: sklearn 機器學習\n",
        "pandas: 表格處理\n",
        "numpy:多微陣列函式庫\n",
        "opencv;影像處理/ai函式庫\n",
        "pillow(PIL):影像處理\n",
        "\n"
      ],
      "metadata": {
        "id": "DCg6qAMv87Ak"
      }
    },
    {
      "cell_type": "code",
      "source": [
        "import pandas as pd\n",
        "from sklearn.datasets import load_iris\n",
        "iris=load_iris()\n",
        "x = pd.DataFrame(iris['data'], columns=iris['feature_names'])\n",
        "y = iris['target']\n",
        "#複製以上表格\n",
        "total=x[:]\n",
        "#增加一行\n",
        "total['ans']= iris['target']\n",
        "#儲存成csv檔\n",
        "total.to_csv('iris.csv', index=False, encoding='utf-8')\n"
      ],
      "metadata": {
        "colab": {
          "base_uri": "https://localhost:8080/"
        },
        "id": "fp8aw1Qd-YD5",
        "outputId": "bf72acef-195c-42dc-a291-68f717301a59"
      },
      "execution_count": 16,
      "outputs": [
        {
          "output_type": "stream",
          "name": "stderr",
          "text": [
            "<ipython-input-16-8573e96116e2>:9: SettingWithCopyWarning: \n",
            "A value is trying to be set on a copy of a slice from a DataFrame.\n",
            "Try using .loc[row_indexer,col_indexer] = value instead\n",
            "\n",
            "See the caveats in the documentation: https://pandas.pydata.org/pandas-docs/stable/user_guide/indexing.html#returning-a-view-versus-a-copy\n",
            "  total['ans']= iris['target']\n"
          ]
        }
      ]
    }
  ]
}